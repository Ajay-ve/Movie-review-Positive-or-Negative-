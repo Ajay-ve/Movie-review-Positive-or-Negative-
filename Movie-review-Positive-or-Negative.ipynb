{
 "cells": [
  {
   "cell_type": "code",
   "execution_count": 1,
   "metadata": {},
   "outputs": [
    {
     "name": "stderr",
     "output_type": "stream",
     "text": [
      "/usr/local/lib/python3.10/dist-packages/scipy/__init__.py:155: UserWarning: A NumPy version >=1.18.5 and <1.26.0 is required for this version of SciPy (detected version 1.26.2\n",
      "  warnings.warn(f\"A NumPy version >={np_minversion} and <{np_maxversion}\"\n"
     ]
    }
   ],
   "source": [
    "# Import necessary libraries\n",
    "import nltk\n",
    "from nltk.corpus import movie_reviews\n",
    "from nltk.classify import NaiveBayesClassifier\n",
    "from nltk.classify.util import accuracy as nltk_accuracy"
   ]
  },
  {
   "cell_type": "code",
   "execution_count": 2,
   "metadata": {},
   "outputs": [
    {
     "name": "stderr",
     "output_type": "stream",
     "text": [
      "[nltk_data] Downloading package movie_reviews to\n",
      "[nltk_data]     /home/ajay/nltk_data...\n",
      "[nltk_data]   Package movie_reviews is already up-to-date!\n"
     ]
    },
    {
     "data": {
      "text/plain": [
       "True"
      ]
     },
     "execution_count": 2,
     "metadata": {},
     "output_type": "execute_result"
    }
   ],
   "source": [
    "# Download the movie reviews dataset\n",
    "nltk.download('movie_reviews')"
   ]
  },
  {
   "cell_type": "code",
   "execution_count": 3,
   "metadata": {},
   "outputs": [],
   "source": [
    "# Function to extract features from the movie reviews\n",
    "def extract_features(words):\n",
    "    return dict([(word, True) for word in words])"
   ]
  },
  {
   "cell_type": "code",
   "execution_count": 12,
   "metadata": {},
   "outputs": [],
   "source": [
    "# Function to train a Naive Bayes classifier\n",
    "def train_sentiment_classifier():\n",
    "    positive_reviews = []\n",
    "    for file_id in movie_reviews.fileids('pos'):\n",
    "        words = movie_reviews.words(file_id)\n",
    "        positive_reviews.append((extract_features(words), 'Positive'))\n",
    "\n",
    "    negative_reviews = []\n",
    "    for file_id in movie_reviews.fileids('neg'):\n",
    "        words = movie_reviews.words(file_id)\n",
    "        negative_reviews.append((extract_features(words), 'Negative'))\n",
    "        # Split the dataset into training and testing sets\n",
    "        split = 800\n",
    "        train_set =positive_reviews[:split] + negative_reviews[:split]\n",
    "        test_set = positive_reviews[split:] + negative_reviews[split:]\n",
    "        # Train the Naive Bayes classifier\n",
    "    classifier = NaiveBayesClassifier.train(train_set)\n",
    "\n",
    "    # Test the classifier accuracy\n",
    "    accuracy = nltk_accuracy(classifier, test_set)\n",
    "    print(f\"Sentiment Classifier Accuracy: {accuracy:.2%}\")\n",
    "\n",
    "    return classifier\n",
    "\n",
    "\n"
   ]
  },
  {
   "cell_type": "code",
   "execution_count": 14,
   "metadata": {},
   "outputs": [
    {
     "name": "stdout",
     "output_type": "stream",
     "text": [
      "Sentiment Classifier Accuracy: 73.50%\n",
      "Sentiment of the review: Positive\n"
     ]
    }
   ],
   "source": [
    "# Main function\n",
    "if __name__ == \"__main__\":\n",
    "    # Train the sentiment classifier\n",
    "    sentiment_classifier = train_sentiment_classifier()\n",
    "\n",
    "    # Example usage\n",
    "    #test_review = \"I loved the movie. It was fantastic!\"\n",
    "    #test_review = \"Apologize when appropriate but don't take responsibility for things that weren't your fault.\"\n",
    "    words = nltk.word_tokenize(test_review)\n",
    "    features = extract_features(words)\n",
    "    sentiment = sentiment_classifier.classify(features)\n",
    "\n",
    "    print(f\"Sentiment of the review: {sentiment}\")\n"
   ]
  },
  {
   "cell_type": "code",
   "execution_count": null,
   "metadata": {},
   "outputs": [],
   "source": []
  },
  {
   "cell_type": "code",
   "execution_count": null,
   "metadata": {},
   "outputs": [],
   "source": []
  }
 ],
 "metadata": {
  "kernelspec": {
   "display_name": "Python 3",
   "language": "python",
   "name": "python3"
  },
  "language_info": {
   "codemirror_mode": {
    "name": "ipython",
    "version": 3
   },
   "file_extension": ".py",
   "mimetype": "text/x-python",
   "name": "python",
   "nbconvert_exporter": "python",
   "pygments_lexer": "ipython3",
   "version": "3.10.12"
  }
 },
 "nbformat": 4,
 "nbformat_minor": 2
}
